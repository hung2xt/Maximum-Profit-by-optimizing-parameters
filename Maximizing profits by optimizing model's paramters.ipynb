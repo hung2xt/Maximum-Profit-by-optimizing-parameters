{
 "cells": [
  {
   "cell_type": "markdown",
   "metadata": {},
   "source": [
    "     Trong nội dung này, chúng ta sẽ đưa ra các kết quả thực nghiệm để trả lời các câu hỏi sau:\n",
    "    "
   ]
  },
  {
   "cell_type": "markdown",
   "metadata": {},
   "source": [
    "    1. Với các tiêu chí tinh chỉnh mô hình khác nhau thì tác động sẽ như thế nào đến lợi nhuận?\n",
    "    2.Do có sự đánh đổi giữa các tiêu chí khi ngưỡng được lựa chọn cho phân loại thay đổi thì lợi nhuận thay đổi ra sao?"
   ]
  },
  {
   "cell_type": "markdown",
   "metadata": {},
   "source": [
    "    Nó quan trong vì các câu hỏi trên sẽ là căn cứ để người làm dữ liệu xây dựng và đưa ra một mô hình tốt nhất để thỏa mãn yêu cầu tiên quyết của công ty là: LỢI NHUẬN chứ không phải các yếu tố yêu thích của người làm về dữ liệu và thống kê là ROC-AUC, F1 SCORE hay RECALL."
   ]
  },
  {
   "cell_type": "code",
   "execution_count": null,
   "metadata": {},
   "outputs": [],
   "source": [
    "import pandas as pd\n",
    "import matplotlib.pyplot as plt\n",
    "import numpy as np\n",
    "from sklearn.model_selection import train_test_split\n",
    "from sklearn.ensemble import RandomForestClassifier\n",
    "from sklearn.model_selection import RandomizedSearchCV\n",
    "\n",
    "import matplotlib.pyplot as plt\n",
    "import seaborn as sns\n",
    "plt.style.use('fivethirtyeight')\n",
    "%matplotlib inline"
   ]
  },
  {
   "cell_type": "code",
   "execution_count": null,
   "metadata": {},
   "outputs": [],
   "source": [
    "df = pd.read_csv('X_bank.csv')"
   ]
  },
  {
   "cell_type": "code",
   "execution_count": null,
   "metadata": {},
   "outputs": [],
   "source": [
    "df1 = df.drop(['ZIP Code','ID'], axis=1)"
   ]
  },
  {
   "cell_type": "code",
   "execution_count": null,
   "metadata": {},
   "outputs": [],
   "source": [
    "Y = df1'Personal Loan']\n",
    "X = df1.drop(['Personal Loan'], axis=1)"
   ]
  },
  {
   "cell_type": "markdown",
   "metadata": {},
   "source": [
    "Chia train test theo tỷ lệ 60-40"
   ]
  },
  {
   "cell_type": "code",
   "execution_count": null,
   "metadata": {},
   "outputs": [],
   "source": [
    "X_train, X_test, y_train, y_test = train_test_split(X, Y, test_size=0.4, random_state=29, stratify=Y)"
   ]
  },
  {
   "cell_type": "markdown",
   "metadata": {},
   "source": [
    "Xây dựng prameters grid cho Random Forest (RF):"
   ]
  },
  {
   "cell_type": "code",
   "execution_count": null,
   "metadata": {},
   "outputs": [],
   "source": [
    "RF = RandomForestClassifier()\n",
    "paramGrid = {'max_depth':[2,3,None],\n",
    "             'n_estimators':[500,700,1000],\n",
    "             'max_features':[3,5,10],\n",
    "             'min_samples_split':[3,5,10],\n",
    "             'min_samples_leaf':[3,5,10],\n",
    "             'bootstrap':[True, False],\n",
    "             'criterion':['gini','entropy']}"
   ]
  },
  {
   "cell_type": "markdown",
   "metadata": {},
   "source": [
    "Xây dụng 1 function để tùy chỉnh tham số cho RF theo tiêu chí được lựa chọn theo Random Search:"
   ]
  },
  {
   "cell_type": "code",
   "execution_count": null,
   "metadata": {},
   "outputs": [],
   "source": [
    "#hàm tùy chỉnh và train theo 1 tiêu chí chọn trước\n",
    "def turning_RF(metric_selected):\n",
    "    RF_Random = RandomizedSearchCV(estimator=RandomForestClassifier(random_state=29),\n",
    "                                  param_distributions = param_grid,\n",
    "                                  cv=5,\n",
    "                                  n_iter=48,\n",
    "                                  scoring=metric_selected,\n",
    "                                  n_jobs=-1,\n",
    "                                  random_state=29)\n",
    "    RF_Random.fit(X_train, y_train)\n",
    "    return(rf_random)"
   ]
  },
  {
   "cell_type": "markdown",
   "metadata": {},
   "source": [
    "Chúng ta sẽ train và tùy chỉnh mô hình RF theo các tiêu chí là accuracy, f1 score, ROC-AUC"
   ]
  },
  {
   "cell_type": "code",
   "execution_count": null,
   "metadata": {},
   "outputs": [],
   "source": [
    "import time\n",
    "start_time = time.time()\n",
    "RF_ACCURACY = turning_RF(metric_selected='accuracy')\n",
    "RF_RECALL = turning_RF(metric_selected='recall')\n",
    "RF_ROC_AUC = turning_RF(metric_selected='roc_auc')\n",
    "\n",
    "training_time = time.time() - start_time #thời gian để train\n",
    "print('Thời gian tinh chỉnh: ', training_time)"
   ]
  },
  {
   "cell_type": "markdown",
   "metadata": {},
   "source": [
    "Sau khi train, chúng ta có thể có được các giá trị tốt nhất của một tham số theo từng tiêu chí được chọn, bằng cách:"
   ]
  },
  {
   "cell_type": "code",
   "execution_count": null,
   "metadata": {},
   "outputs": [],
   "source": [
    "print(f'Tham số tốt nhất với tiêu chí Accuracy: {RF_ACCURACY.best_params_}')\n",
    "print(f'Tham số tốt nhất với tiêu chí Recall: {RF_RECALL.best_params_}')\n",
    "print(f'Tham số tốt nhất với tiêu chí ROC_AUC: {RF_ROC_AUC.best_params_}')"
   ]
  },
  {
   "cell_type": "markdown",
   "metadata": {},
   "source": [
    "các mô hình RF tối ưu tương ứng với tiêu chí tùy chọn:"
   ]
  },
  {
   "cell_type": "code",
   "execution_count": null,
   "metadata": {},
   "outputs": [],
   "source": [
    "BEST_RF_ACCURACY = RF_ACCURACY.best_estimator_\n",
    "BEST_RF_RECALL = RF_RECALL.best_estimator_\n",
    "BEST_RF_ROC = RE_ROC_AUC.best_estimator_"
   ]
  },
  {
   "cell_type": "code",
   "execution_count": null,
   "metadata": {},
   "outputs": [],
   "source": [
    "#Sử dụng RF để dự báo cho nhãn 0-1 cho các cases\n",
    "PREDICT_ACCURACY = BEST_RF_ACCURACY.predict(X_test)\n",
    "PREDICT_RECALL = BEST_RF_RECALL.predict(X_test)\n",
    "PREDICT_ROC = BEST_RF_ROC_AUC.predict(X_test)"
   ]
  },
  {
   "cell_type": "markdown",
   "metadata": {},
   "source": [
    "Chúng ta có thể có được probability of Default thu được từ RF, bằng cách:"
   ]
  },
  {
   "cell_type": "code",
   "execution_count": null,
   "metadata": {},
   "outputs": [],
   "source": [
    "PREDICT_PROB_ACCURACY  = BEST_RF_ACCURACY.predict_proba(X_test)\n",
    "PREDICT_PROB_RECALL = BEST_RF_RECALL.predict_proba(X_test)\n",
    "PREDICT_PROB_ROC = BEST_RF_ROC.predict_proba(X_test)"
   ]
  },
  {
   "cell_type": "markdown",
   "metadata": {},
   "source": [
    "    Sự thay đổi của profit khi probability of cutoff thay đổi:"
   ]
  },
  {
   "cell_type": "markdown",
   "metadata": {},
   "source": [
    "Một khách hàng sẽ được phân loại là tốt hay xấu phụ thuộc vào hai yếu tố: (1) xác suất (probability of default) dự báo từ mô hình, và (2) ngưỡng cutoff được lựa chọn để phân loại khách hàng dựa trên probability of default thu được từ mô hình."
   ]
  },
  {
   "cell_type": "markdown",
   "metadata": {},
   "source": [
    "(1) Nếu mỗi một khách hàng được đồng ý cho vay bởi ngân hàng thì KH sẽ được giải ngân một khoản vay đúng bằng thu nhập của họ (thực tế các ngân hàng Việt Nam khi cấp tín dụng tiêu dùng, nếu khách hàng thỏa mãn thì họ sẽ được cấp một khoản vay thường là gấp nhiều lần thu nhập sau thuế của họ), và (2) Một khách hàng là xấu (có khả năng không thanh toán được nợ và vỡ nợ) nhưng RF phân loại nhầm thành tốt thì ngân hàng sẽ mất trắng khoản vay này."
   ]
  },
  {
   "cell_type": "markdown",
   "metadata": {},
   "source": [
    "Chúng ta có thể thêm vào 1 function để tính số lãi thu về của ngân hàng - trong trường hợp này, chúng ta chọn 10%"
   ]
  },
  {
   "cell_type": "code",
   "execution_count": null,
   "metadata": {},
   "outputs": [],
   "source": [
    "def profit_by_cutoff(cutoff, pred_prob):\n",
    "    #phân loại là 0 hay 1 phụ thuộc vào probability of default và ngưỡng cutoff được chọn:\n",
    "    PREDICT_BG = (pred_prob[:,1] > cutoff).astype(int)\n",
    "    #các trường hợp là 0 được phân loại đúng thành 0\n",
    "    G = X_test[(y_test == 0)&(pred_bg == 0)]\n",
    "    #các trường hợp là 1 nhưng được phân loại sai thành 0\n",
    "    B = X_test[(y_test == 1)&(pred_bg == 0)]\n",
    "    #Tính profit\n",
    "    profit = np.sum(0.1*G['Income']) - np.sum(B['Income'])\n",
    "    \n",
    "    return(profit)"
   ]
  },
  {
   "cell_type": "markdown",
   "metadata": {},
   "source": [
    "Với lãi là 10% thì profit cho mô hình RF cho các tiêu chí. Cũng như có thể thấy được là RF tùy chỉnh theo tiêu chí nào sẽ có lợi nhuận cao nhất với ngưỡng cutoff là 0.5!!"
   ]
  },
  {
   "cell_type": "code",
   "execution_count": null,
   "metadata": {},
   "outputs": [],
   "source": [
    "PROB = [PREDICT_PROB_ACCURACY, PREDICT_PROB_RECALL, PREDICT_PROB_ROC]\n",
    "CRITERIONS = ['ACCURACY','RECALL','ROC']\n",
    "\n",
    "for P, C in zip(PROB, CRITERIONS):\n",
    "    print(f'The profit by {C} is {profit_by_cutoff(cutoff=0.5, pred_prob=P)}')"
   ]
  },
  {
   "cell_type": "markdown",
   "metadata": {},
   "source": [
    "Chúng ta có thể thêm vào 1 function để do lường profit thay đổi như thế nào nếu như ngưỡng cutoff thay đổi."
   ]
  },
  {
   "cell_type": "code",
   "execution_count": null,
   "metadata": {},
   "outputs": [],
   "source": [
    "def profit_cut_off_range(prob, cut_off_range):\n",
    "    profit = []\n",
    "    for i in cut_off_range:\n",
    "        profit_i = profit_by_cutoff(cutoff=i, pred_prob = prob)\n",
    "        profit.append(profit_i)\n",
    "    \n",
    "    df_results = pd.DataFrame({'CutOff': np.round(cut_off_range, 4), 'Profit': profit})\n",
    "    return df_results"
   ]
  },
  {
   "cell_type": "code",
   "execution_count": null,
   "metadata": {},
   "outputs": [],
   "source": [
    "Có thể lựa chọn các ngưỡng cutoff khác nhau!"
   ]
  },
  {
   "cell_type": "code",
   "execution_count": null,
   "metadata": {},
   "outputs": [],
   "source": [
    "cut_off_range_profit = np.arange(.025, .60, .65, .70)"
   ]
  },
  {
   "cell_type": "code",
   "execution_count": null,
   "metadata": {},
   "outputs": [],
   "source": [
    "# Tính toán Profit dựa trên các kịch bản khác nhau của cutoff\n",
    "FROFIT_ROC = profit_cut_off_range(prob=PREDICT_PROB_ROC, cut_off_range=cut_off_range_profit)\n",
    "FROFIT_RECALL  = profit_cut_off_range(prob=PREDICT_PROB_RECALL, cut_off_range=cut_off_range_profit)\n",
    "FROFIT_ACCURACY = profit_cut_off_range(prob=PREDICT_PROB_ACCURACY, cut_off_range=cut_off_range_profit)"
   ]
  },
  {
   "cell_type": "markdown",
   "metadata": {},
   "source": [
    "Profit dưới các kịch bản khách nhau của cutoff và tiêu chí được lựa chọn cho tinh chỉnh RF:"
   ]
  },
  {
   "cell_type": "code",
   "execution_count": null,
   "metadata": {},
   "outputs": [],
   "source": [
    "plt.figure(figsize=(9,6))\n",
    "plt.plot('CutOff','Profit', data = FROFIT_ROC, label = 'AUC-ROC', lw=2)\n",
    "plt.plot('CutOff','Profit', data = FROFIT_RECALL, label = 'Recall', lw=2)\n",
    "plt.plot('CutOff','Profit', data = FROFIT_ACCURACY, label = 'Accuracy', lw=2)\n",
    "\n",
    "plt.scatter('CutOff','Profit', data = FROFIT_ROC[FROFIT_ROC['CutOff'] == 0.5], marker = 'D', s=60, label = None)\n",
    "plt.scatter('CutOff','Profit', data = FROFIT_RECALL[FROFIT_RECALL['CutOff'] == 0.5], marker = 'D', s=60, label = None)\n",
    "plt.scatter('CutOff','Profit', data = FROFIT_ACCURACY[FROFIT_ACCURACY['CutOff'] == 0.5], marker = 'D', s=60, label = None)\n",
    "\n",
    "\n",
    "plt.xlabel('Cutoff')\n",
    "plt.ylabel('Profit')\n",
    "plt.title('Profit by cutoff and Method of turning Random Forest \\n')\n",
    "plt.legend(loc='best')\n",
    "plt.show()"
   ]
  },
  {
   "cell_type": "markdown",
   "metadata": {},
   "source": [
    "Chúng ta có thể minh họa lợi nhuận tương ứng với kịch bản tốt nhất của cutoff cho các mô hình RF được tinh chỉnh theo các tiêu chí khác nhau như sau:"
   ]
  },
  {
   "cell_type": "code",
   "execution_count": null,
   "metadata": {},
   "outputs": [],
   "source": [
    "PROFIT_ROC_MAX = FROFIT_ROC[FROFIT_ROC['CutOff'] == df_profit_roc['CutOff'].max()]\n",
    "PROFIT_RECALL_MAX = data = FROFIT_RECALL[FROFIT_RECALL['CutOff'] == df_profit_rec['CutOff'].max()]\n",
    "PROFIT_ACCURACY_MAX = FROFIT_ACCURACY[FROFIT_ACCURACY['CutOff'] == df_profit_acc['CutOff'].max()]"
   ]
  },
  {
   "cell_type": "code",
   "execution_count": null,
   "metadata": {},
   "outputs": [],
   "source": [
    "#Plot\n",
    "plt.figure(figsize=(9,6))\n",
    "plt.plot('CutOff','Profit', data = FROFIT_ROC, label = 'AUC-ROC', lw=2)\n",
    "plt.plot('CutOff','Profit', data = FROFIT_RECALL, label = 'Recall', lw=2)\n",
    "plt.plot('CutOff','Profit', data = FROFIT_ACCURACY, label = 'Accuracy', lw=2)\n",
    "\n",
    "plt.scatter('CutOff','Profit', data = PROFIT_ROC_MAX, marker = 'D', s=70, label = None)\n",
    "plt.scatter('CutOff','Profit', data = PROFIT_RECALL_MAX, marker = 'D', s=70, label = None)\n",
    "plt.scatter('CutOff','Profit', data = PROFIT_ACCURACY_MAX, marker = 'D', s=70, label = None)\n",
    "\n",
    "\n",
    "plt.xlabel('Cutoff')\n",
    "plt.ylabel('Profit')\n",
    "plt.title('Figure 2: Profit by cutoff and Method of turning Random Forest \\n')\n",
    "plt.legend(loc='best')\n",
    "plt.show()"
   ]
  },
  {
   "cell_type": "markdown",
   "metadata": {},
   "source": [
    "    Sử dụng logistic regression để khảo sát lợi nhuận\n",
    "    "
   ]
  },
  {
   "cell_type": "code",
   "execution_count": null,
   "metadata": {},
   "outputs": [],
   "source": [
    "from sklearn.linear_model import LogisticRegression\n",
    "logmodel = LogisticRegression()\n",
    "logmodel.fit(X_train, y_train)"
   ]
  },
  {
   "cell_type": "code",
   "execution_count": null,
   "metadata": {},
   "outputs": [],
   "source": [
    "#sử dụng logistic regression để đánh giá probability of default\n",
    "PREDICT_PROB_LOGIT = logmodel.predict_proba(X_test)"
   ]
  },
  {
   "cell_type": "code",
   "execution_count": null,
   "metadata": {},
   "outputs": [],
   "source": [
    "#các kịch bản về lợi nhuận nếu chúng ta sử dụng mô hình logistic\n",
    "PROFIT_LOGIT = profit_cut_off_range(prob = PREDICT_PROB_LOGIT, cut_off_range = cut_off_range_profit)"
   ]
  },
  {
   "cell_type": "code",
   "execution_count": null,
   "metadata": {},
   "outputs": [],
   "source": [
    "#option có lợi nhuận tốt nhất với logistic regression\n",
    "PROFIT_LOGIT_MAX = PROFIT_LOGIT[PROFIT_LOGIT ['Profit'] == PROFIT_LOGIT['Profit'].max()]\n",
    "print(f'The maximum profit: {PROFIT_LOGIT_MAX}')"
   ]
  },
  {
   "cell_type": "markdown",
   "metadata": {},
   "source": [
    "Chênh lệch về profit giữa 2 mô hình RF và logistic regression"
   ]
  },
  {
   "cell_type": "code",
   "execution_count": null,
   "metadata": {},
   "outputs": [],
   "source": [
    "np.array(max_profit_roc['Profit'])/np.array(max_profit_logit['Profit']) - 1"
   ]
  },
  {
   "cell_type": "markdown",
   "metadata": {},
   "source": [
    "Chúng ta có thể  plot các kịch bản khác nhau về profit theo cutoff"
   ]
  },
  {
   "cell_type": "code",
   "execution_count": null,
   "metadata": {},
   "outputs": [],
   "source": [
    "plt.figure(figsize=(9,6))\n",
    "plt.plot('CutOff','Profit', data = PROFIT_LOGIT, lw=2)\n",
    "plt.scatter('CutOff','Profit', data = PROFIT_LOGIT_MAX, color='red', s=70, marker='D')\n",
    "plt.scatter('CutOff','Profit', data = PROFIT_LOGIT[PROFIT_LOGIT['CutOff'] ==0.5], marker = 'x', s=70, color='purple', label=None)\n",
    "plt.xlabel('Cutoff')\n",
    "plt.ylabel('Profit')\n",
    "plt.title('Figure 3: Profit by Cutoff for Logistic Regression')\n",
    "plt.show()"
   ]
  },
  {
   "cell_type": "markdown",
   "metadata": {},
   "source": [
    "    Sự thay đổi của ACCURACY theo ngưỡng cuffoff được chọn"
   ]
  },
  {
   "cell_type": "code",
   "execution_count": null,
   "metadata": {},
   "outputs": [],
   "source": [
    "def accuracy_cut_off_range(prob_pred, cut_off_range_n):\n",
    "    accuracy = []\n",
    "    \n",
    "    for j in cut_off_range_n:\n",
    "        PREDICT_BG = (prob_pred[:,1] >=j).astype(int)\n",
    "        acc_i = np.mean(PREDICT_BG == y_test)\n",
    "        accuracy.append(acc_i)\n",
    "        \n",
    "    DF_ACCURACY = pd.DataFrame({'cut_off': np.round(cut_off_range_n,4), 'accuracy':accuracy})\n",
    "    return(df_accuracy)\n"
   ]
  },
  {
   "cell_type": "code",
   "execution_count": null,
   "metadata": {},
   "outputs": [],
   "source": [
    "#rang của cutoff\n",
    "cut_off_range_acc = np.arange(0.025,1,0.025)"
   ]
  },
  {
   "cell_type": "code",
   "execution_count": null,
   "metadata": {},
   "outputs": [],
   "source": [
    "#ACCURACY tương ứng\n",
    "ACCURACY_RF_ACC = accuracy_cut_off_range(prob_pred = PREDICT_PROB_ACCURACY, cut_off_range_n = cut_off_range_acc)\n",
    "ACCURACY_RF_RECALL = accuracy_cut_off_range(prob_pred = PREDICT_PROB_RECALL, cut_off_range_n = cut_off_range_acc)\n",
    "ACCURACY_RF_ROC = accuracy_cut_off_range(prob_pred = PREDICT_PROB_ROC, cut_off_range_n = cut_off_range_acc)\n",
    "ACCURACY_LG_ACC = accuracy_cut_off_range(prob_pred = PREDICT_PROB_LOGIT, cut_off_range_n = cut_off_range_acc)"
   ]
  },
  {
   "cell_type": "code",
   "execution_count": null,
   "metadata": {},
   "outputs": [],
   "source": [
    "# Biến đổi của Accuracy theo cutoff: \n",
    "plt.figure(figsize=(9,6))\n",
    "plt.plot('cut_off','accuracy', data = ACCURACY_RF_ACC, label = 'Accuracy', lw=2)\n",
    "plt.plot('cut_off','accuracy', data = ACCURACY_RF_RECALL, label = 'Recall', lw=2)\n",
    "plt.plot('cut_off','accuracy', data = ACCURACY_RF_ROC , label = 'ROC-AUC', lw=2)\n",
    "plt.plot('cut_off','accuracy', data = ACCURACY_LG_ACC, label = 'Logistic Regression', lw=2)\n",
    "\n",
    "plt.xlabel('Cutoff')\n",
    "plt.ylabel('Accuracy')\n",
    "plt.title('Figure 4: Trade off between Accuracy and Cutoff')\n",
    "plt.legend()\n",
    "plt.show()"
   ]
  },
  {
   "cell_type": "markdown",
   "metadata": {},
   "source": [
    "    KẾT LUẬN"
   ]
  },
  {
   "cell_type": "markdown",
   "metadata": {},
   "source": [
    "Dựa trên các kết quả thực nghiệm thu được,chúng ta thấy rằng với bài toán phân loại và xếp hạng hồ sơ xin vay thì tiêu chí phù hợp để tinh chỉnh và lựa chọn mô hình trước hết phải căn cứ vào mục tiêu kinh doanh của tổ chức là lợi nhuận. Điều này có nghĩa là, không phải AUC/ROC, Accuracy, Recall hay bất cứ tiêu chí nào khác được chọn để tinh chỉnh cũng như so sánh - lựa chọn mô hình cho mục đích sử dụng cuối cùng mà là lợi nhuận."
   ]
  },
  {
   "cell_type": "code",
   "execution_count": null,
   "metadata": {},
   "outputs": [],
   "source": []
  }
 ],
 "metadata": {
  "kernelspec": {
   "display_name": "Python 3",
   "language": "python",
   "name": "python3"
  },
  "language_info": {
   "codemirror_mode": {
    "name": "ipython",
    "version": 3
   },
   "file_extension": ".py",
   "mimetype": "text/x-python",
   "name": "python",
   "nbconvert_exporter": "python",
   "pygments_lexer": "ipython3",
   "version": "3.7.5"
  }
 },
 "nbformat": 4,
 "nbformat_minor": 4
}
